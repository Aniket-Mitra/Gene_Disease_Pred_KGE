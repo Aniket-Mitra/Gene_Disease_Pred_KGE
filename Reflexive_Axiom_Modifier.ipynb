{
  "nbformat": 4,
  "nbformat_minor": 0,
  "metadata": {
    "colab": {
      "provenance": [],
      "authorship_tag": "ABX9TyOgq4NZQlZRMifL34oaVD4x",
      "include_colab_link": true
    },
    "kernelspec": {
      "name": "python3",
      "display_name": "Python 3"
    },
    "language_info": {
      "name": "python"
    }
  },
  "cells": [
    {
      "cell_type": "markdown",
      "metadata": {
        "id": "view-in-github",
        "colab_type": "text"
      },
      "source": [
        "<a href=\"https://colab.research.google.com/github/bda-lab/KGembedding/blob/main/Reflexive_Axiom_Modifier.ipynb\" target=\"_parent\"><img src=\"https://colab.research.google.com/assets/colab-badge.svg\" alt=\"Open In Colab\"/></a>"
      ]
    },
    {
      "cell_type": "code",
      "source": [
        "original_file='hp_elvira_8sep_trimmed2.owl'\n",
        "reflexive_axiom_modified_op_file='hp_final_test7.owl'  #outputfile"
      ],
      "metadata": {
        "id": "Tg-la1TFT9Sv"
      },
      "execution_count": 4,
      "outputs": []
    },
    {
      "cell_type": "code",
      "execution_count": 5,
      "metadata": {
        "id": "8-XDhT9XTWDR"
      },
      "outputs": [],
      "source": [
        "mod3=[]\n",
        "with open(original_file, 'r') as fp:\n",
        "    for line in fp:\n",
        "\n",
        "           x = line[:-1]\n",
        "\n",
        "        # add current item to the list\n",
        "           mod3.append(x)\n",
        "\n",
        "for i in mod3:\n",
        "  #if i.startswith('<hasSelf'):\n",
        "  if '<hasSelf' in i:\n",
        "    #print(i,mod3.index(i))\n",
        "    hasself_index=mod3.index(i)\n",
        "    for jj in range(mod3.index(i),0,-1):\n",
        "      if '<Class' in mod3[jj]:\n",
        "        index_to_chng=jj\n",
        "        break\n",
        "    cls=mod3[index_to_chng].split('\"')[1]\n",
        "    #print(cls)\n",
        "    stmt='                <allValuesFrom rdf:resource=\"'+cls+'\"/>'\n",
        "\n",
        "    for jj in range(mod3.index(i),0,-1):\n",
        "      if '<rdfs:subClassOf' in mod3[jj]:\n",
        "        index_to_chng2=jj\n",
        "        break\n",
        "    #cls=mod3[index_to_chng].split('\"')[1]\n",
        "    stmt1='        <rdfs:equivalentClass>'\n",
        "\n",
        "    for jj in range(mod3.index(i),len(mod3),1):\n",
        "      if '</rdfs:subClassOf' in mod3[jj]:\n",
        "        index_to_chng3=jj\n",
        "        break\n",
        "    #cls=mod3[index_to_chng].split('\"')[1]\n",
        "    stmt2='        </rdfs:equivalentClass>'\n",
        "\n",
        "mod3[hasself_index]=stmt\n",
        "mod3[index_to_chng2]=stmt1\n",
        "mod3[index_to_chng3]=stmt2"
      ]
    },
    {
      "cell_type": "code",
      "source": [
        "ts='\\n'.join(mod3)\n",
        "file = open(reflexive_axiom_modified_op_file, 'w')\n",
        "file.write(ts)\n",
        "file.close()"
      ],
      "metadata": {
        "id": "gGKbpgRcTl6s"
      },
      "execution_count": 6,
      "outputs": []
    }
  ]
}