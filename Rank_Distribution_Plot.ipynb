{
  "nbformat": 4,
  "nbformat_minor": 0,
  "metadata": {
    "colab": {
      "provenance": [],
      "include_colab_link": true
    },
    "kernelspec": {
      "name": "python3",
      "display_name": "Python 3"
    },
    "language_info": {
      "name": "python"
    }
  },
  "cells": [
    {
      "cell_type": "markdown",
      "metadata": {
        "id": "view-in-github",
        "colab_type": "text"
      },
      "source": [
        "<a href=\"https://colab.research.google.com/github/bda-lab/KGembedding/blob/main/Rank_Distribution_Plot.ipynb\" target=\"_parent\"><img src=\"https://colab.research.google.com/assets/colab-badge.svg\" alt=\"Open In Colab\"/></a>"
      ]
    },
    {
      "cell_type": "code",
      "source": [
        "#Input and output files\n",
        "\n",
        "test_data='df_test14.csv'\n",
        "all_pairs='Dataset_Pairs_Label.csv'\n",
        "!unzip all_embeds.zip\n",
        "\n",
        "lists=[(r'all_embeds/HPO17zt4f_100_-0.1_1000_cls.pkl','ElEm'),(r'all_embeds/Run_HPOfull_Embeddings_TransE1','TransE1'),\\\n",
        "      (r'all_embeds/Owl2Vec_Output_Embeddings2.txt','owl2vec'),\\\n",
        "       (r'all_embeds/Opa2vec_embeddings2.txt','opa2vec'),(r'all_embeds/Run_HPOfull_Embeddings_DistMult1','DistMult1'),\\\n",
        "       (r'all_embeds/Run_Embeddings__rdf2vec_skip-gram.txt','rdf2vec')]\n",
        "\n",
        "\n",
        "rel_file=r'all_embeds2/HPO17zt4f_100_-0.1_1000_rel.pkl'\n",
        "\n",
        "\n",
        "output_rank_distribution='mer_all_ranks4_new3.csv'\n",
        "\n",
        "\n"
      ],
      "metadata": {
        "id": "KsieHV5OWlvo"
      },
      "execution_count": null,
      "outputs": []
    },
    {
      "cell_type": "code",
      "execution_count": null,
      "metadata": {
        "id": "bb38lghAu8-m",
        "colab": {
          "base_uri": "https://localhost:8080/",
          "height": 35
        },
        "outputId": "28a9412e-494d-4831-a471-70b99fe55c84"
      },
      "outputs": [
        {
          "output_type": "display_data",
          "data": {
            "text/plain": [
              "<Figure size 1800x600 with 0 Axes>"
            ]
          },
          "metadata": {}
        }
      ],
      "source": [
        "import pandas as pd\n",
        "import numpy as np\n",
        "import matplotlib.pyplot as plt\n",
        "plt.figure(figsize=(18,6))\n",
        "import seaborn as sns\n",
        "import re\n",
        "df_pairs=pd.read_csv(test_data,sep=',')\n",
        "df_pairs_all=pd.read_csv(all_pairs,sep=';')\n",
        "df_pairs.head()\n",
        "df_pairs['Entity A']=df_pairs['Entity A'].astype(str)\n",
        "\n",
        "list_actual=list(set(df_pairs['Entity A'].values.tolist()+df_pairs_all['Entity B'].values.tolist()))"
      ]
    },
    {
      "cell_type": "code",
      "source": [
        "#dfr=pd.read_pickle(\"HPO17zt52_100_-0.1_1000_rel.pkl\")"
      ],
      "metadata": {
        "id": "XKUWNM7xfKXS"
      },
      "execution_count": null,
      "outputs": []
    },
    {
      "cell_type": "code",
      "source": [
        "def calc_rank(k,vals_gen,vals_dis,keys_dis,keys_gen,iselem):\n",
        "   cals_dist={}\n",
        "   for i in range(len(vals_gen)):\n",
        "       dists={}\n",
        "       if iselem==False:\n",
        "         for j in range(len(vals_dis)):\n",
        "            dists[keys_dis[j]]=np.linalg.norm(vals_gen[i]-vals_dis[j])\n",
        "       else:\n",
        "         for j in range(len(vals_dis)):\n",
        "            dists[keys_dis[j]]=np.linalg.norm(vals_gen[i][:-1]-vals_dis[j][:-1])\n",
        "       cals_dist[keys_gen[i]]=dists\n",
        "\n",
        "   for i in cals_dist:\n",
        "      lista=[]\n",
        "      lista.append(sorted(cals_dist[i].items(), key=lambda x:x[1]))\n",
        "      cals_dist[i]=lista[0]\n",
        "\n",
        "   df_pairs2=df_pairs[df_pairs['Label']==k]\n",
        "   df_pairs2=df_pairs2.astype('str')\n",
        "\n",
        "   dist_1=[]\n",
        "   rank_info=[]\n",
        "   for i in range(len(df_pairs2)):\n",
        "      c=0\n",
        "    #rank_info=[]\n",
        "  #if df_pairs2.iloc[i,1] in keys_gen:\n",
        "      for j in cals_dist[df_pairs2.iloc[i,1]]:\n",
        "         #c+=1\n",
        "         if j[0]==df_pairs2.iloc[i,2]:\n",
        "          c+=1\n",
        "          rank_info.append(c)\n",
        "          #print(c)\n",
        "          dist_1.append(j[1])\n",
        "         c+=1\n",
        "   return rank_info"
      ],
      "metadata": {
        "id": "j_j4aHibvQdo"
      },
      "execution_count": null,
      "outputs": []
    },
    {
      "cell_type": "code",
      "source": [
        "def collect_rank_distribution_all(a,type1,k,rel_file_name_elem):\n",
        "   if type1!='opa2vec' and type1!='ElEm':\n",
        "     gene_list=list(set(df_pairs['Entity A'].values.tolist()))\n",
        "     mod1=[]\n",
        "     with open(a, 'r') as fp:\n",
        "       for line in fp:\n",
        "           x = line[:-1]\n",
        "           mod1.append(x)\n",
        "\n",
        "\n",
        "     mod_brk=mod1[0].replace(']','[').split('[')\n",
        "     keys=[mod_brk[i] for i in range(len(mod_brk)) if i%2==0 and len(mod_brk[i])>0]\n",
        "     vals=[mod_brk[i] for i in range(len(mod_brk)) if i%2!=0 and len(mod_brk[i])>0]\n",
        "\n",
        "\n",
        "\n",
        "     keys2=[re.search(r'http:[A-Za-z:/0-9].+\\d{1}',i).group() for i in keys]\n",
        "     vals2=[np.fromstring(i, dtype=float, sep=',') for i in vals]\n",
        "     keys_dis=[i.split('/')[-1] for i in keys2 if 'C' in i]\n",
        "     keys_dis_i=[keys2.index(i) for i in keys2 if 'C' in i ]\n",
        "     keys_gen=[i.split('/')[-1] for i in keys2 if 'C' not in i]\n",
        "     keys_gen=[i for i in keys_gen if i in gene_list]\n",
        "     keys3=[i.split('/')[-1] for i in keys2]\n",
        "     keys_gen_i=[keys3.index(i) for i in keys_gen]\n",
        "     #keys_gen_i=[keys2.index(i) for i in keys2 if 'C' not in i and i in gene_list]\n",
        "     #print(keys_gen[:5])\n",
        "\n",
        "\n",
        "     vals_dis=[vals2[i] for i in keys_dis_i]\n",
        "     vals_gen=[vals2[i] for i in keys_gen_i]\n",
        "     iselem=False\n",
        "\n",
        "   elif type1=='opa2vec':\n",
        "      gene_list=list(set(df_pairs['Entity A'].values.tolist()))\n",
        "      dataset = open(a, 'r')\n",
        "      data = dataset.readlines()\n",
        "      entities = []\n",
        "      vectors = []\n",
        "      k2=[]\n",
        "      for line in data:\n",
        "        k2.append(line.strip('\\n'))\n",
        "\n",
        "      for i in range(len(k2)):\n",
        "               if len(k2[i])==0:\n",
        "                   k2[i]='ooo'\n",
        "\n",
        "      k3=' '.join(k2).split('ooo')\n",
        "      for i in range(len(k3)):\n",
        "            k3[i]=k3[i].lstrip().rstrip()\n",
        "\n",
        "      k3=k3[:-1]\n",
        "\n",
        "      keys2=[k3i.split()[0] for k3i in k3]\n",
        "      vals2=[k3i.split()[1:] for k3i in k3]\n",
        "\n",
        "      keys3=[]\n",
        "      ind_all=[]\n",
        "\n",
        "      for i in keys2:\n",
        "        if 'CHEBI'not in i and 'HPO' not in i and 'GO' not in i and 'UBERON' not in i and 'HsapDv' not in i and 'CL' not in i\\\n",
        "           and 'HP' not in i and 'BFO' not in i and 'PR' not in i and 'MPATH' not in i and 'PATO' not in i:\n",
        "           keys3.append(i)\n",
        "           ind_all.append(keys2.index(i))\n",
        "\n",
        "      vals3=[]\n",
        "      for i in ind_all:\n",
        "         vals3.append(vals2[i])\n",
        "\n",
        "      keys=[]\n",
        "      vals4=[]\n",
        "      for i in range(len(keys3)):\n",
        "         if keys3[i] in list_actual:\n",
        "            keys.append(keys3[i])\n",
        "            vals4.append(vals3[i])\n",
        "\n",
        "      vals=[]\n",
        "      for i in vals4:\n",
        "          temp=[]\n",
        "          for j in i:\n",
        "            j=float(j)\n",
        "            temp.append(j)\n",
        "            vals.append(temp)\n",
        "      keys_dis=[i for i in keys if 'C' in i and 'CHEBI' not in i and 'CL' not in i ]\n",
        "      ind_dis=[i for i in range(len(keys)) if 'C' in keys[i]]\n",
        "      keys_gen=[i for i in keys if 'C' not in i and str(i) in gene_list]\n",
        "      ind_gen=[i for i in range(len(keys)) if 'C' not in keys[i] and str(keys[i]) in gene_list]\n",
        "      #print(len(keys_dis),len(keys_gen),len(ind_dis),len(ind_gen))\n",
        "\n",
        "      vals_dis=[vals[i] for i in ind_dis]\n",
        "      vals_gen=[vals[i] for i in ind_gen]\n",
        "\n",
        "      for i,j in zip(range(len(vals_dis)),range(len(vals_gen))):\n",
        "            vals_dis[i]=np.array(vals_dis[i])\n",
        "            vals_gen[j]=np.array(vals_gen[j])\n",
        "      iselem=False\n",
        "\n",
        "\n",
        "   elif type1=='ElEm':\n",
        "     df=pd.read_pickle(a)\n",
        "     df['classes']=df['classes'].str.replace('<','').str.replace('>',\"\").str.split('/').str[-1]\n",
        "     #df_pairs=pd.read_csv('Dataset_Pairs_Label.csv',sep=';')\n",
        "     #df_pairs['Entity A']=df_pairs['Entity A'].astype(str)\n",
        "\n",
        "     dfr=pd.read_pickle(rel_file_name_elem)\n",
        "     rel=np.array(dfr[dfr['relations']=='<http://purl.obolibrary.org/obo/Dir>'].embeddings)[0]\n",
        "     rel1=np.append(rel,[1])\n",
        "\n",
        "\n",
        "\n",
        "     gene_list=list(set(df_pairs['Entity A'].values.tolist()))\n",
        "     dis_list=list(set(df_pairs_all['Entity B'].values.tolist()))\n",
        "\n",
        "     mer_list=gene_list+dis_list\n",
        "     df=df[df['classes'].isin(mer_list)]\n",
        "     df['embeddings']=df['embeddings'].to_numpy()\n",
        "     df_g=df[~df.classes.str.startswith('C')]\n",
        "     df_d=df[df.classes.str.startswith('C')]\n",
        "\n",
        "     keys_gen=df_g['classes'].values.tolist()\n",
        "     vals_gen=df_g['embeddings'].values.tolist()\n",
        "     for i in range(len(vals_gen)):\n",
        "              vals_gen[i]=vals_gen[i]+rel1\n",
        "\n",
        "     keys_dis=df_d['classes'].values.tolist()\n",
        "     vals_dis=df_d['embeddings'].values.tolist()\n",
        "     iselem=True\n",
        "   rank_info=calc_rank(k,vals_gen,vals_dis,keys_dis,keys_gen,iselem)\n",
        "   return rank_info"
      ],
      "metadata": {
        "id": "SdYVp8dfvVRf"
      },
      "execution_count": null,
      "outputs": []
    },
    {
      "cell_type": "code",
      "source": [
        "!unzip all_embeds.zip"
      ],
      "metadata": {
        "id": "SppPecJhvVXN",
        "colab": {
          "base_uri": "https://localhost:8080/"
        },
        "outputId": "abfd7a96-7dc6-446d-a772-c3ec10c05041"
      },
      "execution_count": null,
      "outputs": [
        {
          "output_type": "stream",
          "name": "stdout",
          "text": [
            "Archive:  all_embeds.zip\n",
            "  End-of-central-directory signature not found.  Either this file is not\n",
            "  a zipfile, or it constitutes one disk of a multi-part archive.  In the\n",
            "  latter case the central directory and zipfile comment will be found on\n",
            "  the last disk(s) of this archive.\n",
            "unzip:  cannot find zipfile directory in one of all_embeds.zip or\n",
            "        all_embeds.zip.zip, and cannot find all_embeds.zip.ZIP, period.\n"
          ]
        }
      ]
    },
    {
      "cell_type": "code",
      "source": [
        "df_1=pd.DataFrame()\n",
        "for i in lists:\n",
        "   print(i)\n",
        "   ranka=collect_rank_distribution_all(i[0],i[1],1,rel_file)\n",
        "   df_1[i[1]]=ranka\n",
        "df_1['one']=1"
      ],
      "metadata": {
        "id": "Kv99dFRtwHIf",
        "colab": {
          "base_uri": "https://localhost:8080/"
        },
        "outputId": "27543888-b9e3-43fe-acc1-3adbacc821ca"
      },
      "execution_count": null,
      "outputs": [
        {
          "output_type": "stream",
          "name": "stdout",
          "text": [
            "('all_embeds2/HPO17zt4f_100_-0.1_1000_cls.pkl', 'ElEm')\n",
            "('all_embeds2/Owl2Vec_Output_Embeddings2.txt', 'owl2vec')\n",
            "('all_embeds2/Opa2vec_embeddings2.txt', 'opa2vec')\n"
          ]
        }
      ]
    },
    {
      "cell_type": "code",
      "source": [
        "df_0=pd.DataFrame()\n",
        "for i in lists:\n",
        "   print(i)\n",
        "   ranka=collect_rank_distribution_all(i[0],i[1],0,rel_file)\n",
        "   df_0[i[1]]=ranka\n",
        "df_0['one']=0"
      ],
      "metadata": {
        "id": "0DapUlWrwOIv",
        "colab": {
          "base_uri": "https://localhost:8080/"
        },
        "outputId": "7f95ae68-28ab-4dcd-b5bc-8caf4dda7e2b"
      },
      "execution_count": null,
      "outputs": [
        {
          "output_type": "stream",
          "name": "stdout",
          "text": [
            "('all_embeds2/HPO17zt4f_100_-0.1_1000_cls.pkl', 'ElEm')\n",
            "('all_embeds2/Owl2Vec_Output_Embeddings2.txt', 'owl2vec')\n",
            "('all_embeds2/Opa2vec_embeddings2.txt', 'opa2vec')\n"
          ]
        }
      ]
    },
    {
      "cell_type": "code",
      "source": [
        "mer=pd.concat([df_1,df_0],axis=0)\n",
        "mer.to_csv(output_rank_distribution,index=None)"
      ],
      "metadata": {
        "id": "VGJdNthAwRHR"
      },
      "execution_count": null,
      "outputs": []
    },
    {
      "cell_type": "code",
      "source": [
        "df_mer=pd.read_csv(output_rank_distribution)\n",
        "df_mer.head()\n",
        "df_mer.rename(columns={'TransE1':'TransE','DistMult1':'DistMult'},inplace=True)\n",
        "df_mer_melt=pd.melt(df_mer,id_vars=['one'])\n",
        "df_mer_melt.rename(columns={'one':'link','variable':'embedding_model','value':'ranks'},inplace=True)"
      ],
      "metadata": {
        "id": "JXlc4OxywUXa"
      },
      "execution_count": null,
      "outputs": []
    },
    {
      "cell_type": "code",
      "source": [
        "k=[i for i in range(0,1600,100)]\n",
        "k"
      ],
      "metadata": {
        "colab": {
          "base_uri": "https://localhost:8080/"
        },
        "id": "EddWOFawU4a8",
        "outputId": "ec741392-6d70-4b3a-aa8b-ed3277bab676"
      },
      "execution_count": null,
      "outputs": [
        {
          "output_type": "execute_result",
          "data": {
            "text/plain": [
              "[0,\n",
              " 100,\n",
              " 200,\n",
              " 300,\n",
              " 400,\n",
              " 500,\n",
              " 600,\n",
              " 700,\n",
              " 800,\n",
              " 900,\n",
              " 1000,\n",
              " 1100,\n",
              " 1200,\n",
              " 1300,\n",
              " 1400,\n",
              " 1500]"
            ]
          },
          "metadata": {},
          "execution_count": 28
        }
      ]
    },
    {
      "cell_type": "code",
      "source": [
        "import matplotlib.ticker as plticker\n",
        "#loc = plticker.MultipleLocator(base=250) #21\n",
        "sns.set_style(\"whitegrid\")\n",
        "sns.set_context(\"poster\", font_scale = 0.7,rc={\"grid.linewidth\": 3})\n",
        "plt.figure(figsize=(16,7))\n",
        "ax=sns.boxplot(data=df_mer_melt,x='embedding_model',y='ranks',hue='link',palette=\"Blues\")\n",
        "#ax.xaxis.set_major_locator(loc)\n",
        "plt.yticks(k)\n",
        "sns.move_legend(ax, \"upper left\", bbox_to_anchor=(1, 1))"
      ],
      "metadata": {
        "id": "HnF5ywII9aew",
        "outputId": "830de39c-f77f-449d-e9ae-4a3cb8a6d877",
        "colab": {
          "base_uri": "https://localhost:8080/",
          "height": 453
        }
      },
      "execution_count": null,
      "outputs": [
        {
          "output_type": "display_data",
          "data": {
            "text/plain": [
              "<Figure size 1600x700 with 1 Axes>"
            ],
            "image/png": "[encoded data removed]"
          },
          "metadata": {}
        }
      ]
    }
  ]
}