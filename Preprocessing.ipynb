{
  "nbformat": 4,
  "nbformat_minor": 0,
  "metadata": {
    "colab": {
      "provenance": []
    },
    "kernelspec": {
      "name": "python3",
      "display_name": "Python 3"
    },
    "language_info": {
      "name": "python"
    }
  },
  "cells": [
    {
      "cell_type": "markdown",
      "source": [
        "# Removing Irrelevant Axioms"
      ],
      "metadata": {
        "id": "WMhfDYMZyaHv"
      }
    },
    {
      "cell_type": "code",
      "source": [
        "!unzip hp_elvira_8sep.zip"
      ],
      "metadata": {
        "colab": {
          "base_uri": "https://localhost:8080/"
        },
        "id": "e9cNnem6IFOJ",
        "outputId": "0169708e-0b3d-41e5-8c12-69b7b3fec07f"
      },
      "execution_count": null,
      "outputs": [
        {
          "output_type": "stream",
          "name": "stdout",
          "text": [
            "Archive:  hp_elvira_8sep.zip\n",
            "  inflating: hp_elvira_8sep.owl      \n"
          ]
        }
      ]
    },
    {
      "cell_type": "code",
      "execution_count": null,
      "metadata": {
        "id": "6wBaOg9uxz7w"
      },
      "outputs": [],
      "source": [
        "test_response=[]\n",
        "with open(r'hp_elvira_8sep.owl', 'r') as fp:\n",
        "    for line in fp:\n",
        "        if '<oboInOwl:hasDbXref rdf:resource=\"https://orcid.org/0000-0002-5316-1399\"/>' not in line \\\n",
        "         and '<terms:creator rdf:resource=\"https://orcid.org/0000-0002-5316-1399\"/>' not in line \\\n",
        "         and '<oboInOwl:creation_date rdf:resource=\"https://orcid.org/0000-0002-5316-1399\"/>' not in line:\n",
        "           x = line[:-1]\n",
        "\n",
        "        # add current item to the list\n",
        "           test_response.append(x)\n",
        "\n",
        "ts='\\n'.join(test_response)\n",
        "\n",
        "file = open('hp_elvira_8sep_trimmed.owl', 'w')\n",
        "file.write(ts)\n",
        "file.close()"
      ]
    }
  ]
}