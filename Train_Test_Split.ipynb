{
  "nbformat": 4,
  "nbformat_minor": 0,
  "metadata": {
    "colab": {
      "provenance": [],
      "include_colab_link": true
    },
    "kernelspec": {
      "name": "python3",
      "display_name": "Python 3"
    },
    "language_info": {
      "name": "python"
    }
  },
  "cells": [
    {
      "cell_type": "markdown",
      "metadata": {
        "id": "view-in-github",
        "colab_type": "text"
      },
      "source": [
        "<a href=\"https://colab.research.google.com/github/bda-lab/KGembedding/blob/main/Train_Test_Split.ipynb\" target=\"_parent\"><img src=\"https://colab.research.google.com/assets/colab-badge.svg\" alt=\"Open In Colab\"/></a>"
      ]
    },
    {
      "cell_type": "code",
      "execution_count": null,
      "metadata": {
        "id": "nIqGS8j_ySIx"
      },
      "outputs": [],
      "source": [
        "#input\n",
        "\n",
        "pair_file='Dataset_Pairs_Label.csv'\n",
        "n=2456\n",
        "\n",
        "import pandas as pd"
      ]
    },
    {
      "cell_type": "code",
      "source": [
        "def generate_train_testset(pair_file,n):\n",
        "     df_pair=pd.read_csv(pair_file,sep=';')\n",
        "     df_pair_1=df_pair.query('Label==1')\n",
        "     df_pair_0=df_pair.query('Label==0')\n",
        "     df_test1_0=df_pair_0.sample(n)\n",
        "     df_test1_1=df_pair_1.sample(n)\n",
        "     nrs1=df_test1_0.Nr.tolist()+df_test1_1.Nr.tolist()\n",
        "     df_train_1=df_pair[~df_pair.Nr.isin(nrs1)]\n",
        "\n",
        "     df_pair_train_0=df_train_1[df_train_1['Label']==0]\n",
        "     df_test2_0=df_pair_train_0.sample(n)\n",
        "     df_test3_0=df_pair_train_0[~df_pair_train_0.Nr.isin(df_test2_0.Nr.unique().tolist())].sample(2456)\n",
        "     df_pair_train_1=df_train_1[df_train_1['Label']==1]\n",
        "     df_test2_1=df_pair_train_1.sample(n)\n",
        "     df_test3_1=df_pair_train_1[~df_pair_train_1.Nr.isin(df_test2_1.Nr.unique().tolist())].sample(2456)\n",
        "\n",
        "     df_test=pd.concat([df_test1_0,df_test1_1],axis=0)\n",
        "     df_test3=pd.concat([df_test3_0,df_test3_1],axis=0)\n",
        "     df_test2=pd.concat([df_test2_0,df_test2_1],axis=0)\n",
        "\n",
        "     nrs2=df_test2.Nr.unique().tolist()\n",
        "     nrs3=df_test3.Nr.unique().tolist()\n",
        "     df_train_2=df_pair[~df_pair.Nr.isin(nrs2)]\n",
        "     df_train_3=df_pair[~df_pair.Nr.isin(nrs3)]\n",
        "\n",
        "     df_mer=pd.concat([df_test,df_test2,df_test3],axis=0)\n",
        "\n",
        "     nrs_last=df_mer.Nr.unique().tolist()\n",
        "     df_pair_not_yt=df_pair[~df_pair.Nr.isin(nrs_last)]\n",
        "\n",
        "     df_pair_st_not=df_pair[~df_pair.Nr.isin(df_pair_not_yt.Nr.unique().tolist())]\n",
        "     df_pair_st_not1=df_pair_st_not.query(\"Label==0\")\n",
        "     k1=n-df_pair_not_yt.Label.value_counts()[0]\n",
        "     df_test_04=df_pair_st_not1.sample(k1)\n",
        "     df_pair_st_not2=df_pair_st_not.query(\"Label==1\")\n",
        "     k2=n-df_pair_not_yt.Label.value_counts()[1]\n",
        "     df_test_14=df_pair_st_not2.sample(k2)\n",
        "     df_test4=pd.concat([df_pair_not_yt,df_test_04,df_test_14],axis=0)\n",
        "     nrs4=df_test4.Nr.unique().tolist()\n",
        "     df_train_4=df_pair[~df_pair.Nr.isin(nrs4)]\n",
        "\n",
        "\n",
        "     list_all=[df_train_1,df_train_2,df_train_3,df_train_4,df_test,df_test2,df_test3,df_test4]\n",
        "     list_all_name=['df_train_1','df_train_2','df_train_3','df_train_4','df_test1','df_test2','df_test3','df_test4']\n",
        "\n",
        "     for i,j in zip(list_all,list_all_name):\n",
        "      k5=str(i)\n",
        "      i.to_csv('{}.csv'.format(j),index=None)"
      ],
      "metadata": {
        "id": "cmxaVZyAyXzj"
      },
      "execution_count": null,
      "outputs": []
    },
    {
      "cell_type": "code",
      "source": [
        "generate_train_testset(pair_file,n)"
      ],
      "metadata": {
        "id": "z335VPg1ybij"
      },
      "execution_count": null,
      "outputs": []
    }
  ]
}