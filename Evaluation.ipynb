{
  "nbformat": 4,
  "nbformat_minor": 0,
  "metadata": {
    "colab": {
      "provenance": [],
      "include_colab_link": true
    },
    "kernelspec": {
      "name": "python3",
      "display_name": "Python 3"
    },
    "language_info": {
      "name": "python"
    }
  },
  "cells": [
    {
      "cell_type": "markdown",
      "metadata": {
        "id": "view-in-github",
        "colab_type": "text"
      },
      "source": [
        "<a href=\"https://colab.research.google.com/github/bda-lab/KGembedding/blob/main/Evaluation.ipynb\" target=\"_parent\"><img src=\"https://colab.research.google.com/assets/colab-badge.svg\" alt=\"Open In Colab\"/></a>"
      ]
    },
    {
      "cell_type": "code",
      "source": [
        "#input and output files\n",
        "\n",
        "input_rank_file='mer_all_ranks2_new3.csv'\n",
        "output_stats_file_name='stats_test2.pickle'"
      ],
      "metadata": {
        "id": "OFlO_hfX00BD"
      },
      "execution_count": null,
      "outputs": []
    },
    {
      "cell_type": "code",
      "execution_count": null,
      "metadata": {
        "id": "6tK2G7QL0pjr"
      },
      "outputs": [],
      "source": [
        "import pickle\n",
        "from scipy.stats import mannwhitneyu\n",
        "import numpy as np\n",
        "import pandas as pd\n",
        "\n",
        "def calc_stats(df,name_file_save):\n",
        "  #import pandas as pd\n",
        "  all_stats={'hits10':[],'hits100':[],'med50':[],'med90':[],'mwu':[]}\n",
        "\n",
        "  df1=pd.read_csv(df)\n",
        "  models=df1.columns.tolist()[:-1]\n",
        "  #models\n",
        "  df1_one=df1[df1.one==1]\n",
        "  df1_zero=df1[df1.one==0]\n",
        "  model_hit_10={}\n",
        "  for i in models:\n",
        "        model_hit_10[i]=df1_one[df1_one[i]<=10].shape[0]/len(df1_one)\n",
        "  all_stats['hits10'].append(model_hit_10)\n",
        "\n",
        "  model_hit_100={}\n",
        "  for i in models:\n",
        "        model_hit_100[i]=df1_one[df1_one[i]<=100].shape[0]/len(df1_one)\n",
        "  all_stats['hits100'].append(model_hit_100)\n",
        "\n",
        "  med50={}\n",
        "  med90={}\n",
        "\n",
        "  for i in models:\n",
        "       med50[i]=np.percentile(df1_one[i].tolist(),50)\n",
        "       med90[i]=np.percentile(df1_one[i].tolist(),90)\n",
        "  all_stats['med50'].append(med50)\n",
        "  all_stats['med90'].append(med90)\n",
        "\n",
        "  mwu={}\n",
        "  for i in models:\n",
        "     k1=df1_one[i].tolist()\n",
        "     k2=df1_zero[i].tolist()\n",
        "     mwu[i]=mannwhitneyu(k1, k2)\n",
        "  all_stats['mwu'].append(mwu)\n",
        "\n",
        "  with open(name_file_save, 'wb') as handle:\n",
        "    pickle.dump(all_stats,handle)"
      ]
    },
    {
      "cell_type": "code",
      "source": [
        "calc_stats(input_rank_file,output_stats_file_name)"
      ],
      "metadata": {
        "id": "TvFxdRjY1Ukw"
      },
      "execution_count": null,
      "outputs": []
    },
    {
      "cell_type": "code",
      "source": [
        "file = open(output_stats_file_name, 'rb')\n",
        "data = pickle.load(file)\n",
        "data"
      ],
      "metadata": {
        "id": "mp2qqpv71cPx",
        "colab": {
          "base_uri": "https://localhost:8080/"
        },
        "outputId": "6abfcfba-b50a-45d8-cf9a-94d8781697e0"
      },
      "execution_count": null,
      "outputs": [
        {
          "output_type": "execute_result",
          "data": {
            "text/plain": [
              "{'hits10': [{'ElEm': 0.2919381107491857,\n",
              "   'TransE1': 0.01017915309446254,\n",
              "   'owl2vec': 0.005293159609120521,\n",
              "   'opa2vec': 0.007328990228013029,\n",
              "   'DistMult1': 0.2728013029315961,\n",
              "   'rdf2vec': 0.2907166123778502}],\n",
              " 'hits100': [{'ElEm': 0.5134364820846905,\n",
              "   'TransE1': 0.07573289902280131,\n",
              "   'owl2vec': 0.046416938110749185,\n",
              "   'opa2vec': 0.07206840390879479,\n",
              "   'DistMult1': 0.4385179153094462,\n",
              "   'rdf2vec': 0.4605048859934853}],\n",
              " 'med50': [{'ElEm': 93.0,\n",
              "   'TransE1': 868.5,\n",
              "   'owl2vec': 920.0,\n",
              "   'opa2vec': 728.0,\n",
              "   'DistMult1': 197.5,\n",
              "   'rdf2vec': 136.0}],\n",
              " 'med90': [{'ElEm': 911.5,\n",
              "   'TransE1': 1620.5,\n",
              "   'owl2vec': 1622.5,\n",
              "   'opa2vec': 1538.0,\n",
              "   'DistMult1': 1294.5,\n",
              "   'rdf2vec': 1001.0}],\n",
              " 'mwu': [{'ElEm': MannwhitneyuResult(statistic=1335737.0, pvalue=1.3012990805539068e-250),\n",
              "   'TransE1': MannwhitneyuResult(statistic=2895030.0, pvalue=0.014949317236883468),\n",
              "   'owl2vec': MannwhitneyuResult(statistic=3055802.5, pvalue=0.42280015927805914),\n",
              "   'opa2vec': MannwhitneyuResult(statistic=2939570.5, pvalue=0.12421283441115273),\n",
              "   'DistMult1': MannwhitneyuResult(statistic=1522993.5, pvalue=2.5032825067950028e-198),\n",
              "   'rdf2vec': MannwhitneyuResult(statistic=1439579.0, pvalue=7.018304379089804e-221)}]}"
            ]
          },
          "metadata": {},
          "execution_count": 10
        }
      ]
    },
    {
      "cell_type": "code",
      "source": [],
      "metadata": {
        "id": "K1dZDcfo1cX0"
      },
      "execution_count": null,
      "outputs": []
    }
  ]
}